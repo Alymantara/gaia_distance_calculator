{
 "cells": [
  {
   "cell_type": "markdown",
   "metadata": {},
   "source": [
    "# GAIA distance calculator"
   ]
  },
  {
   "cell_type": "code",
   "execution_count": 1,
   "metadata": {
    "collapsed": true
   },
   "outputs": [],
   "source": [
    "import numpy as np\n",
    "from astropy import units as u\n",
    "from astropy.coordinates import SkyCoord\n",
    "import matplotlib.pyplot as plt\n",
    "from scipy.integrate import simps\n",
    "import emcee\n",
    "import corner\n",
    "\n",
    "import matplotlib\n",
    "matplotlib.rc('font', family='sans-serif') \n",
    "matplotlib.rc('font', serif='Helvetica Neue') \n",
    "matplotlib.rc('text', usetex='false') \n",
    "matplotlib.rcParams.update({'font.size': 22})"
   ]
  },
  {
   "cell_type": "markdown",
   "metadata": {},
   "source": [
    "## Query of database"
   ]
  },
  {
   "cell_type": "markdown",
   "metadata": {},
   "source": [
    "You can query the Gaia DR2 database through gaia.tap (only works)\n",
    "on python 2.7"
   ]
  },
  {
   "cell_type": "code",
   "execution_count": 2,
   "metadata": {
    "collapsed": true
   },
   "outputs": [],
   "source": [
    "c = SkyCoord('02 43 40.4373 +61 26 03.713', unit=(u.hourangle, u.deg))"
   ]
  },
  {
   "cell_type": "code",
   "execution_count": 3,
   "metadata": {
    "collapsed": true
   },
   "outputs": [],
   "source": [
    "#Search for the source in a 10 arcsec radius using gaia tap\n",
    "# python interface:\n",
    "#from gaia.tap import cone_search,query\n",
    "#ga = cone_search(c.ra.deg, c.dec.deg, 10/3600.,\n",
    "#                 table='gaiadr2.gaia_source')"
   ]
  },
  {
   "cell_type": "markdown",
   "metadata": {},
   "source": [
    "## Change the parameters here!!!\n",
    "Once you have the parallax and its uncertanity,\n",
    "change the cell below. \n",
    "Also, change the length scale and the zero-point.\n",
    "This should be the only parameters you need to change\n",
    "before running the notebook."
   ]
  },
  {
   "cell_type": "code",
   "execution_count": 1,
   "metadata": {
    "collapsed": true
   },
   "outputs": [],
   "source": [
    "parallax, error = 0.0952,0.0302\n",
    "L = 1.3 #kpc\n",
    "w_zp = -0.029 # zero point, Lindegren+2018"
   ]
  },
  {
   "cell_type": "markdown",
   "metadata": {},
   "source": [
    "## Distance estimate"
   ]
  },
  {
   "cell_type": "markdown",
   "metadata": {},
   "source": [
    "Setting up the likelihood model, as suggested in Bailer-Jones+2018\n",
    "\n",
    "with a global parallax zeropoint, $\\varpi_{zp}=-0.029$ mas, from Lindegren, et al. 2018 ArXiv:1804.09366  (http://adsabs.harvard.edu/abs/2018arXiv180409366L)\n",
    "\n",
    "$\\ln[P(\\varpi|r,\\sigma_{\\varpi})] = \\frac{1}{2\\sigma_{\\varpi}^2}(\\varpi - \\varpi_{zp} - \\frac{1}{r})^2 - \\ln(\\sqrt{2\\pi} \\sigma_{\\varpi})$"
   ]
  },
  {
   "cell_type": "code",
   "execution_count": 3,
   "metadata": {
    "collapsed": true
   },
   "outputs": [],
   "source": [
    "def lnlike(theta, y, yerr):\n",
    "    distance = theta\n",
    "    model = 1. / distance\n",
    "    inv_sigma2 = 1.0/(yerr**2)\n",
    "    return -0.5*(np.sum((y-w_zp-model)**2*inv_sigma2 \\\n",
    "            - np.log(inv_sigma2)))"
   ]
  },
  {
   "cell_type": "markdown",
   "metadata": {},
   "source": [
    "We use the exponentially decreasing volume density prior, from Bailer-Jones 2015 (http://adsabs.harvard.edu/abs/2015PASP..127..994B)\n",
    "\n",
    "$P(r)=\\frac{1}{2L^3}r^2e^{-r/L}$, for $r>0$\n",
    "\n",
    "where L=1.35 kpc, is the lenght scale. This length scale can be adjusted, however the latter value is suggested in Astraatmadja & Bailer-Jones 2016 (http://adsabs.harvard.edu/abs/2016ApJ...832..137A)\n",
    "\n",
    "Higher values of L tend to give larger distances."
   ]
  },
  {
   "cell_type": "code",
   "execution_count": 4,
   "metadata": {
    "collapsed": true
   },
   "outputs": [],
   "source": [
    "def lnprior_exp(theta):\n",
    "    distance = theta\n",
    "    if  distance > 0:\n",
    "        prior = distance**2 * np.exp(-distance/L) /(2.0 * L**3)\n",
    "        return np.log(prior)\n",
    "    return -np.inf "
   ]
  },
  {
   "cell_type": "markdown",
   "metadata": {},
   "source": [
    "Set-up the full unnormalised posterior distribution"
   ]
  },
  {
   "cell_type": "code",
   "execution_count": 5,
   "metadata": {
    "collapsed": true
   },
   "outputs": [],
   "source": [
    "def lnprob_exp(theta, y, yerr):\n",
    "    lp = lnprior_exp(theta)\n",
    "    if not np.isfinite(lp):\n",
    "        return -np.inf\n",
    "    return lp + lnlike(theta, y, yerr)"
   ]
  },
  {
   "cell_type": "markdown",
   "metadata": {},
   "source": [
    "The function that performs the sampling of the posterior \n",
    "distribution with EMCEE (Foreman-Mackay+ 2013) in order to obtain the quartiles http://adsabs.harvard.edu/abs/2013PASP..125..306F"
   ]
  },
  {
   "cell_type": "code",
   "execution_count": 6,
   "metadata": {
    "collapsed": true
   },
   "outputs": [],
   "source": [
    "def gaia_exp(par,par_error,samp_out=True, burn_in=500, num_chains=2000):\n",
    "    ndim, nwalkers = 1, 60\n",
    "    pos = [1./par + 1e-2*np.random.randn(ndim) for i in range(nwalkers)]\n",
    "\n",
    "    sampler = emcee.EnsembleSampler(nwalkers, ndim, lnprob_exp, args=(par,par_error),threads=1)\n",
    "    sampler.run_mcmc(pos, num_chains)\n",
    "    samples = sampler.chain[:, burn_in:, :].reshape((-1, ndim))\n",
    "\n",
    "    q05 = corner.quantile(samples,.05)\n",
    "    q50 = corner.quantile(samples,.50)\n",
    "    q95 = corner.quantile(samples,.95)\n",
    "    if samp_out:\n",
    "        return q05[0], q50[0], q95[0],samples\n",
    "    else:\n",
    "        return q05[0], q50[0], q95[0]"
   ]
  },
  {
   "cell_type": "markdown",
   "metadata": {},
   "source": [
    "Now, using the parallax and error measurement from Gaia DR2"
   ]
  },
  {
   "cell_type": "code",
   "execution_count": 8,
   "metadata": {
    "scrolled": true
   },
   "outputs": [
    {
     "name": "stdout",
     "output_type": "stream",
     "text": [
      "sig/parallax=0.317\n",
      "\n",
      "d_naive=10.504 ± 3.332 kpc\n"
     ]
    }
   ],
   "source": [
    "frac = error/parallax\n",
    "\n",
    "print(\"sig/parallax={:.3f}\".format(error/parallax))\n",
    "print(\"\")\n",
    "print(\"d_naive={:.3f} ± {:.3f} kpc\".format(1/parallax,error/parallax**2))\n",
    "\n"
   ]
  },
  {
   "cell_type": "markdown",
   "metadata": {},
   "source": [
    "We calculate the 5, 50 and 95 percentile"
   ]
  },
  {
   "cell_type": "code",
   "execution_count": 9,
   "metadata": {
    "collapsed": true
   },
   "outputs": [],
   "source": [
    "q05,q50,q95,samples_exp = gaia_exp(parallax, error,\n",
    "                          burn_in=500, num_chains=8000)"
   ]
  },
  {
   "cell_type": "code",
   "execution_count": 10,
   "metadata": {},
   "outputs": [
    {
     "name": "stdout",
     "output_type": "stream",
     "text": [
      " 5 percentile = 5.52\n",
      " 50 percentile = 7.28\n",
      " 95 percentile = 10.21\n"
     ]
    }
   ],
   "source": [
    "print(\" 5 percentile = {:.2f}\\n \\\n",
    "50 percentile = {:.2f}\\n \\\n",
    "95 percentile = {:.2f}\".format(q05,q50,q95))"
   ]
  },
  {
   "cell_type": "code",
   "execution_count": 11,
   "metadata": {},
   "outputs": [
    {
     "name": "stdout",
     "output_type": "stream",
     "text": [
      "d=7.28 + 2.94 - 1.76 kpc\n",
      "Distance lower limit 1%=5.01 kpc\n"
     ]
    }
   ],
   "source": [
    "print(\"d={:.2f} + {:.2f} - {:.2f} kpc\".format(q50,q95-q50,q50-q05))\n",
    "q01 = corner.quantile(samples_exp,1-.99)\n",
    "print(\"Distance lower limit 1%={:.2f} kpc\".format(q01[0]))"
   ]
  },
  {
   "cell_type": "markdown",
   "metadata": {},
   "source": [
    "We can find analytically the mode of the distribution, from Bailer-Jones 2015"
   ]
  },
  {
   "cell_type": "code",
   "execution_count": 12,
   "metadata": {},
   "outputs": [
    {
     "name": "stdout",
     "output_type": "stream",
     "text": [
      "r_Mode = 6.90 kpc\n"
     ]
    }
   ],
   "source": [
    "coeff = [  1/L,-2,(parallax - w_zp)/error**2,-1/error**2 ]\n",
    "roots = np.roots(coeff)\n",
    "#print(roots)\n",
    "ss = np.imag(roots) == 0\n",
    "mode_d = np.real(roots[ss])[0]\n",
    "print(\"r_Mode = {:.2f} kpc\".format(mode_d))"
   ]
  },
  {
   "cell_type": "markdown",
   "metadata": {},
   "source": [
    "Calculate the evidence Z = $\\int^{\\infty}_0P(\\varpi|r,\\sigma_{\\varpi})P(r)$"
   ]
  },
  {
   "cell_type": "code",
   "execution_count": 13,
   "metadata": {},
   "outputs": [
    {
     "name": "stdout",
     "output_type": "stream",
     "text": [
      "Z=4.569e+00\n"
     ]
    },
    {
     "name": "stderr",
     "output_type": "stream",
     "text": [
      "/Users/juan/miniconda3/lib/python3.6/site-packages/ipykernel_launcher.py:1: DeprecationWarning: object of type <class 'float'> cannot be safely interpreted as an integer.\n",
      "  \"\"\"Entry point for launching an IPython kernel.\n",
      "/Users/juan/miniconda3/lib/python3.6/site-packages/ipykernel_launcher.py:9: DeprecationWarning: object of type <class 'float'> cannot be safely interpreted as an integer.\n",
      "  if __name__ == '__main__':\n"
     ]
    }
   ],
   "source": [
    "xx = np.linspace(0.0,100,1e3)\n",
    "yy = np.zeros(xx.size)\n",
    "for i, xo in enumerate(xx):\n",
    "    yy[i] = np.exp(lnprob_exp(xo,parallax,error))\n",
    "Z = simps(yy,x=xx)\n",
    "print(\"Z={:.3e}\".format(Z))\n",
    "\n",
    "# Now, let's create the 90% lower limit curve for plotting purposes\n",
    "xx90= np.linspace(q01,50,1e3)\n",
    "yy90 = np.zeros(xx90.size)\n",
    "for i, xo in enumerate(xx90):\n",
    "    yy90[i] = np.exp(lnprob_exp(xo,parallax,error))"
   ]
  },
  {
   "cell_type": "code",
   "execution_count": 14,
   "metadata": {},
   "outputs": [
    {
     "data": {
      "text/plain": [
       "<matplotlib.text.Text at 0x112e1b4a8>"
      ]
     },
     "execution_count": 14,
     "metadata": {},
     "output_type": "execute_result"
    },
    {
     "data": {
      "image/png": "[encoded data removed]",
      "text/plain": [
       "<matplotlib.figure.Figure at 0x1043c8a20>"
      ]
     },
     "metadata": {},
     "output_type": "display_data"
    }
   ],
   "source": [
    "fig = plt.figure(figsize=(14,10))\n",
    "ax = fig.add_subplot(111)\n",
    "a = plt.hist(samples_exp,bins=100,color='#f39c12',lw=3,histtype='step',\n",
    "             normed=True,)\n",
    "\n",
    "plt.axvline(x=mode_d,ls='-',color='k',alpha=0.7,lw=2.5)\n",
    "\n",
    "plt.plot(xx,(1/(2*L**3))*np.exp(-xx/L)*xx**2,\n",
    "         label='Prior, L={:.2f} kpc'.format(L),\n",
    "         color='#9b59b6',lw=2.5)\n",
    "plt.plot(xx,yy/Z,lw=3,color='#f39c12',label='Posterior')\n",
    "\n",
    "\n",
    "\n",
    "plt.xlim(0,20)\n",
    "plt.ylim(0,max(yy/Z)*1.1)\n",
    "\n",
    "ax.set_yticklabels([])\n",
    "ax.set_yticks([])\n",
    "lg = plt.legend(fontsize=19)\n",
    "plt.xlabel(\"Distance / kpc\")\n",
    "plt.ylabel('PDF')"
   ]
  }
 ],
 "metadata": {
  "kernelspec": {
   "display_name": "Python 3",
   "language": "python",
   "name": "python3"
  },
  "language_info": {
   "codemirror_mode": {
    "name": "ipython",
    "version": 3
   },
   "file_extension": ".py",
   "mimetype": "text/x-python",
   "name": "python",
   "nbconvert_exporter": "python",
   "pygments_lexer": "ipython3",
   "version": "3.6.1"
  }
 },
 "nbformat": 4,
 "nbformat_minor": 2
}
